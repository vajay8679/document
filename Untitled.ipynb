{
 "cells": [
  {
   "cell_type": "code",
   "execution_count": 1,
   "id": "6e6048cd",
   "metadata": {},
   "outputs": [
    {
     "name": "stdout",
     "output_type": "stream",
     "text": [
      "0\n",
      "1\n",
      "2\n",
      "3\n",
      "4\n"
     ]
    }
   ],
   "source": [
    "for i in range(0,5):\n",
    "    print(i)"
   ]
  },
  {
   "cell_type": "code",
   "execution_count": 5,
   "id": "4c375530",
   "metadata": {},
   "outputs": [],
   "source": [
    "def even(num):\n",
    "    '''@Ajay: CHecking even number'''\n",
    "    if num%2 == 0:\n",
    "        print(\"Even number\")\n",
    "    else:\n",
    "        print(\"Odd number\")"
   ]
  },
  {
   "cell_type": "code",
   "execution_count": 6,
   "id": "645e7f55",
   "metadata": {},
   "outputs": [
    {
     "name": "stdout",
     "output_type": "stream",
     "text": [
      "Odd number\n"
     ]
    }
   ],
   "source": [
    "even(3)"
   ]
  },
  {
   "cell_type": "code",
   "execution_count": 7,
   "id": "d8aa3029",
   "metadata": {},
   "outputs": [
    {
     "data": {
      "text/plain": [
       "'@Ajay: CHecking even number'"
      ]
     },
     "execution_count": 7,
     "metadata": {},
     "output_type": "execute_result"
    }
   ],
   "source": [
    "even.__doc__"
   ]
  },
  {
   "cell_type": "code",
   "execution_count": 8,
   "id": "5ee5e0d1",
   "metadata": {},
   "outputs": [
    {
     "name": "stdout",
     "output_type": "stream",
     "text": [
      "10 is a integer? True\n"
     ]
    }
   ],
   "source": [
    "val = 10\n",
    "print(val , 'is a integer?',isinstance(val,int))"
   ]
  },
  {
   "cell_type": "code",
   "execution_count": 10,
   "id": "47e67f92",
   "metadata": {},
   "outputs": [
    {
     "data": {
      "text/plain": [
       "'HELLO'"
      ]
     },
     "execution_count": 10,
     "metadata": {},
     "output_type": "execute_result"
    }
   ],
   "source": [
    "str = 'Hello'\n",
    "str.upper()"
   ]
  },
  {
   "cell_type": "code",
   "execution_count": 13,
   "id": "6925f002",
   "metadata": {},
   "outputs": [
    {
     "data": {
      "text/plain": [
       "[(0, 'H'),\n",
       " (1, 'e'),\n",
       " (2, 'l'),\n",
       " (3, 'l'),\n",
       " (4, 'o'),\n",
       " (5, ' '),\n",
       " (6, 'p'),\n",
       " (7, 'y'),\n",
       " (8, 't'),\n",
       " (9, 'h'),\n",
       " (10, 'o'),\n",
       " (11, 'n')]"
      ]
     },
     "execution_count": 13,
     "metadata": {},
     "output_type": "execute_result"
    }
   ],
   "source": [
    "li = 'Hello python'\n",
    "list(enumerate(li))"
   ]
  },
  {
   "cell_type": "code",
   "execution_count": 14,
   "id": "0d0aaf31",
   "metadata": {},
   "outputs": [
    {
     "data": {
      "text/plain": [
       "('Hello ', 'how', ' are u man')"
      ]
     },
     "execution_count": 14,
     "metadata": {},
     "output_type": "execute_result"
    }
   ],
   "source": [
    "l = 'Hello how are u man'\n",
    "l.partition('how')"
   ]
  },
  {
   "cell_type": "code",
   "execution_count": 15,
   "id": "4bc4e940",
   "metadata": {},
   "outputs": [
    {
     "data": {
      "text/plain": [
       "'Hello u okay ar u'"
      ]
     },
     "execution_count": 15,
     "metadata": {},
     "output_type": "execute_result"
    }
   ],
   "source": [
    "h = 'Hello how ar u'\n",
    "h.replace('how','u okay')"
   ]
  },
  {
   "cell_type": "code",
   "execution_count": 16,
   "id": "9c14b324",
   "metadata": {},
   "outputs": [
    {
     "name": "stdout",
     "output_type": "stream",
     "text": [
      "this all are good but a,b, c are 5,9,3\n"
     ]
    }
   ],
   "source": [
    "a = 5\n",
    "b = 9\n",
    "c = 3\n",
    "\n",
    "res = \"this all are good but a,b, c are {},{},{}\"\n",
    "print(res.format(a,b,c))"
   ]
  },
  {
   "cell_type": "code",
   "execution_count": 18,
   "id": "445079a5",
   "metadata": {},
   "outputs": [
    {
     "data": {
      "text/plain": [
       "9"
      ]
     },
     "execution_count": 18,
     "metadata": {},
     "output_type": "execute_result"
    }
   ],
   "source": [
    "a = 'hwllo ar u fine now'\n",
    "a.index('u')\n"
   ]
  },
  {
   "cell_type": "code",
   "execution_count": 22,
   "id": "92eaa15a",
   "metadata": {},
   "outputs": [
    {
     "data": {
      "text/plain": [
       "True"
      ]
     },
     "execution_count": 22,
     "metadata": {},
     "output_type": "execute_result"
    }
   ],
   "source": [
    "a = '2920923'\n",
    "a.isnumeric()"
   ]
  },
  {
   "cell_type": "code",
   "execution_count": 23,
   "id": "eb8395ac",
   "metadata": {},
   "outputs": [],
   "source": [
    "l = [2,3,4,'one',6]\n",
    "l.append('seven')"
   ]
  },
  {
   "cell_type": "code",
   "execution_count": 24,
   "id": "3a80566c",
   "metadata": {},
   "outputs": [
    {
     "data": {
      "text/plain": [
       "[2, 3, 4, 'one', 6, 'seven']"
      ]
     },
     "execution_count": 24,
     "metadata": {},
     "output_type": "execute_result"
    }
   ],
   "source": [
    "l"
   ]
  },
  {
   "cell_type": "code",
   "execution_count": 27,
   "id": "58b3d1c2",
   "metadata": {},
   "outputs": [],
   "source": [
    "l.insert(3,'nice')"
   ]
  },
  {
   "cell_type": "code",
   "execution_count": 28,
   "id": "bdf4d24a",
   "metadata": {},
   "outputs": [
    {
     "data": {
      "text/plain": [
       "[2, 3, 4, 'nice', 'one', 6, 'seven', 'nice']"
      ]
     },
     "execution_count": 28,
     "metadata": {},
     "output_type": "execute_result"
    }
   ],
   "source": [
    "l"
   ]
  },
  {
   "cell_type": "code",
   "execution_count": 31,
   "id": "08a40eb7",
   "metadata": {},
   "outputs": [],
   "source": [
    "l.reverse()"
   ]
  },
  {
   "cell_type": "code",
   "execution_count": 32,
   "id": "2059d1d1",
   "metadata": {},
   "outputs": [
    {
     "data": {
      "text/plain": [
       "['nice', 'seven', 6, 'one', 'nice', 4, 3, 2]"
      ]
     },
     "execution_count": 32,
     "metadata": {},
     "output_type": "execute_result"
    }
   ],
   "source": [
    "l"
   ]
  },
  {
   "cell_type": "code",
   "execution_count": 33,
   "id": "b1c279d3",
   "metadata": {},
   "outputs": [
    {
     "data": {
      "text/plain": [
       "[2, 3, 4, 'nice', 'one', 6, 'seven', 'nice']"
      ]
     },
     "execution_count": 33,
     "metadata": {},
     "output_type": "execute_result"
    }
   ],
   "source": [
    "l[::-1]"
   ]
  },
  {
   "cell_type": "code",
   "execution_count": 35,
   "id": "b960bab1",
   "metadata": {},
   "outputs": [
    {
     "data": {
      "text/plain": [
       "['W', 'e', 'l', 'c', 'o', 'm', 'e']"
      ]
     },
     "execution_count": 35,
     "metadata": {},
     "output_type": "execute_result"
    }
   ],
   "source": [
    "l = 'Welcome'\n",
    "list1 = [i for i in l]\n",
    "list1"
   ]
  },
  {
   "cell_type": "code",
   "execution_count": 39,
   "id": "be2e2d12",
   "metadata": {},
   "outputs": [
    {
     "ename": "SyntaxError",
     "evalue": "invalid syntax (270919220.py, line 1)",
     "output_type": "error",
     "traceback": [
      "\u001b[0;36m  Cell \u001b[0;32mIn [39], line 1\u001b[0;36m\u001b[0m\n\u001b[0;31m    mylist = [i for i in range(40) if i%7 == 0 else print('No')]\u001b[0m\n\u001b[0m                                               ^\u001b[0m\n\u001b[0;31mSyntaxError\u001b[0m\u001b[0;31m:\u001b[0m invalid syntax\n"
     ]
    }
   ],
   "source": [
    "mylist = [i for i in range(40) if i%7 == 0 else print('No')]\n",
    "mylist"
   ]
  },
  {
   "cell_type": "markdown",
   "id": "fc7682f2",
   "metadata": {},
   "source": [
    "# List Comprehension"
   ]
  },
  {
   "cell_type": "code",
   "execution_count": 45,
   "id": "c85853be",
   "metadata": {},
   "outputs": [
    {
     "data": {
      "text/plain": [
       "['mango', 'orange', 'mango', 'orange', 'mango']"
      ]
     },
     "execution_count": 45,
     "metadata": {},
     "output_type": "execute_result"
    }
   ],
   "source": [
    "l = ['mango' if i%2==0 else 'orange' for i in range(5)]\n",
    "l"
   ]
  },
  {
   "cell_type": "code",
   "execution_count": 47,
   "id": "256a733c",
   "metadata": {},
   "outputs": [
    {
     "name": "stdout",
     "output_type": "stream",
     "text": [
      "0 even number\n",
      "1 odd number\n",
      "2 even number\n",
      "3 odd number\n",
      "4 even number\n",
      "5 odd number\n",
      "6 even number\n",
      "7 odd number\n",
      "8 even number\n",
      "9 odd number\n",
      "10 even number\n",
      "11 odd number\n",
      "12 even number\n",
      "13 odd number\n",
      "14 even number\n",
      "15 odd number\n",
      "16 even number\n",
      "17 odd number\n",
      "18 even number\n",
      "19 odd number\n"
     ]
    }
   ],
   "source": [
    "l1 = [print('{} even number'.format(i)) if i%2 == 0 else print('{} odd number'.format(i)) for i in range(20)]\n"
   ]
  },
  {
   "cell_type": "code",
   "execution_count": 49,
   "id": "c488d79e",
   "metadata": {},
   "outputs": [
    {
     "data": {
      "text/plain": [
       "[48, 38, 24, 23, 21, 20, 9]"
      ]
     },
     "execution_count": 49,
     "metadata": {},
     "output_type": "execute_result"
    }
   ],
   "source": [
    "l = [23,24,21,9,20,38,48]\n",
    "sorted(l,reverse = True)"
   ]
  },
  {
   "cell_type": "code",
   "execution_count": 51,
   "id": "13ecb5f8",
   "metadata": {},
   "outputs": [
    {
     "data": {
      "text/plain": [
       "1"
      ]
     },
     "execution_count": 51,
     "metadata": {},
     "output_type": "execute_result"
    }
   ],
   "source": [
    "l.index(24)"
   ]
  },
  {
   "cell_type": "code",
   "execution_count": 52,
   "id": "c36daf6b",
   "metadata": {},
   "outputs": [],
   "source": [
    "l = {2,3,4,5}\n",
    "l.add(7)"
   ]
  },
  {
   "cell_type": "code",
   "execution_count": 53,
   "id": "5c733b61",
   "metadata": {},
   "outputs": [
    {
     "data": {
      "text/plain": [
       "{2, 3, 4, 5, 7}"
      ]
     },
     "execution_count": 53,
     "metadata": {},
     "output_type": "execute_result"
    }
   ],
   "source": [
    "l"
   ]
  },
  {
   "cell_type": "code",
   "execution_count": 56,
   "id": "62948330",
   "metadata": {},
   "outputs": [
    {
     "data": {
      "text/plain": [
       "{1, 2, 3, 4, 5, 7, 9}"
      ]
     },
     "execution_count": 56,
     "metadata": {},
     "output_type": "execute_result"
    }
   ],
   "source": [
    "l.update([1,9,3])\n",
    "l"
   ]
  },
  {
   "cell_type": "code",
   "execution_count": 62,
   "id": "f510fe67",
   "metadata": {},
   "outputs": [],
   "source": [
    "a = {1,2,3}\n",
    "b = {3,4,5}\n",
    "c = {5,6,7}"
   ]
  },
  {
   "cell_type": "code",
   "execution_count": 63,
   "id": "fb700ee4",
   "metadata": {},
   "outputs": [
    {
     "data": {
      "text/plain": [
       "{1, 2, 4, 5}"
      ]
     },
     "execution_count": 63,
     "metadata": {},
     "output_type": "execute_result"
    }
   ],
   "source": [
    "a.symmetric_difference(b)"
   ]
  },
  {
   "cell_type": "code",
   "execution_count": 59,
   "id": "3ff3fa5f",
   "metadata": {},
   "outputs": [
    {
     "data": {
      "text/plain": [
       "{3}"
      ]
     },
     "execution_count": 59,
     "metadata": {},
     "output_type": "execute_result"
    }
   ],
   "source": [
    "a"
   ]
  },
  {
   "cell_type": "code",
   "execution_count": 66,
   "id": "8504d45c",
   "metadata": {},
   "outputs": [],
   "source": [
    "a = dict({1:'a',2:'b',3:'c'})"
   ]
  },
  {
   "cell_type": "code",
   "execution_count": 67,
   "id": "c9a9617d",
   "metadata": {},
   "outputs": [
    {
     "data": {
      "text/plain": [
       "{1: 'a', 2: 'b', 3: 'c'}"
      ]
     },
     "execution_count": 67,
     "metadata": {},
     "output_type": "execute_result"
    }
   ],
   "source": [
    "a"
   ]
  },
  {
   "cell_type": "code",
   "execution_count": 69,
   "id": "bc424063",
   "metadata": {},
   "outputs": [
    {
     "data": {
      "text/plain": [
       "{1: 10, 2: 10, 3: 10, 4: 10}"
      ]
     },
     "execution_count": 69,
     "metadata": {},
     "output_type": "execute_result"
    }
   ],
   "source": [
    "keys = {1,2,3,4}\n",
    "values = 10\n",
    "mydict = dict.fromkeys(keys,values)\n",
    "mydict"
   ]
  },
  {
   "cell_type": "code",
   "execution_count": 71,
   "id": "dc5e5bf8",
   "metadata": {},
   "outputs": [
    {
     "data": {
      "text/plain": [
       "10"
      ]
     },
     "execution_count": 71,
     "metadata": {},
     "output_type": "execute_result"
    }
   ],
   "source": [
    "mydict.get(3)"
   ]
  },
  {
   "cell_type": "code",
   "execution_count": 78,
   "id": "f8b85028",
   "metadata": {},
   "outputs": [],
   "source": [
    "mydict1 = {'Name':'Asif' , 'ID': 12345 , 'DOB': 1991 , 'Address' : 'Hilsinki'}"
   ]
  },
  {
   "cell_type": "code",
   "execution_count": 79,
   "id": "2f8f00c5",
   "metadata": {},
   "outputs": [
    {
     "name": "stdout",
     "output_type": "stream",
     "text": [
      "Name  :  Asif\n",
      "ID  :  12345\n",
      "DOB  :  1991\n",
      "Address  :  Hilsinki\n"
     ]
    }
   ],
   "source": [
    "for i in mydict1:\n",
    "    print(i,\" : \",mydict1[i])"
   ]
  },
  {
   "cell_type": "code",
   "execution_count": 73,
   "id": "075fa10c",
   "metadata": {},
   "outputs": [],
   "source": [
    "dict1 = {'DOB':1995}\n",
    "mydict1.update(dict1)"
   ]
  },
  {
   "cell_type": "code",
   "execution_count": 74,
   "id": "b3ffdaca",
   "metadata": {},
   "outputs": [
    {
     "data": {
      "text/plain": [
       "{'Name': 'Asif', 'ID': 12345, 'DOB': 1995, 'Address': 'Hilsinki'}"
      ]
     },
     "execution_count": 74,
     "metadata": {},
     "output_type": "execute_result"
    }
   ],
   "source": [
    "mydict1"
   ]
  },
  {
   "cell_type": "code",
   "execution_count": 75,
   "id": "364f0ff7",
   "metadata": {},
   "outputs": [
    {
     "data": {
      "text/plain": [
       "'Asif'"
      ]
     },
     "execution_count": 75,
     "metadata": {},
     "output_type": "execute_result"
    }
   ],
   "source": [
    "mydict1.pop('Name')"
   ]
  },
  {
   "cell_type": "code",
   "execution_count": 77,
   "id": "6847da10",
   "metadata": {},
   "outputs": [
    {
     "data": {
      "text/plain": [
       "('Address', 'Hilsinki')"
      ]
     },
     "execution_count": 77,
     "metadata": {},
     "output_type": "execute_result"
    }
   ],
   "source": [
    "mydict1.popitem()\n"
   ]
  },
  {
   "cell_type": "code",
   "execution_count": 83,
   "id": "54f66d15",
   "metadata": {},
   "outputs": [],
   "source": [
    "dict1 = {i:i**2 for i in range(5)}"
   ]
  },
  {
   "cell_type": "code",
   "execution_count": 84,
   "id": "441e5b50",
   "metadata": {},
   "outputs": [
    {
     "data": {
      "text/plain": [
       "{0: 0, 1: 1, 2: 4, 3: 9, 4: 16}"
      ]
     },
     "execution_count": 84,
     "metadata": {},
     "output_type": "execute_result"
    }
   ],
   "source": [
    "dict1"
   ]
  },
  {
   "cell_type": "code",
   "execution_count": 85,
   "id": "01357100",
   "metadata": {},
   "outputs": [],
   "source": [
    "mydict1 = {'a':10 , 'b':20 , 'c':30 , 'd':40 , 'e':50}"
   ]
  },
  {
   "cell_type": "code",
   "execution_count": 87,
   "id": "e1071533",
   "metadata": {},
   "outputs": [],
   "source": [
    "l = {k:v/10 for (k,v) in mydict1.items()}"
   ]
  },
  {
   "cell_type": "code",
   "execution_count": 88,
   "id": "9758712c",
   "metadata": {},
   "outputs": [
    {
     "data": {
      "text/plain": [
       "{'a': 1.0, 'b': 2.0, 'c': 3.0, 'd': 4.0, 'e': 5.0}"
      ]
     },
     "execution_count": 88,
     "metadata": {},
     "output_type": "execute_result"
    }
   ],
   "source": [
    "l"
   ]
  },
  {
   "cell_type": "code",
   "execution_count": 89,
   "id": "085199a0",
   "metadata": {},
   "outputs": [],
   "source": [
    "str1 = \"Natural Language Processing\"\n",
    "l = {i:i.upper() for i in str1}"
   ]
  },
  {
   "cell_type": "code",
   "execution_count": 90,
   "id": "b2bc9448",
   "metadata": {},
   "outputs": [
    {
     "data": {
      "text/plain": [
       "{'N': 'N',\n",
       " 'a': 'A',\n",
       " 't': 'T',\n",
       " 'u': 'U',\n",
       " 'r': 'R',\n",
       " 'l': 'L',\n",
       " ' ': ' ',\n",
       " 'L': 'L',\n",
       " 'n': 'N',\n",
       " 'g': 'G',\n",
       " 'e': 'E',\n",
       " 'P': 'P',\n",
       " 'o': 'O',\n",
       " 'c': 'C',\n",
       " 's': 'S',\n",
       " 'i': 'I'}"
      ]
     },
     "execution_count": 90,
     "metadata": {},
     "output_type": "execute_result"
    }
   ],
   "source": [
    "l"
   ]
  },
  {
   "cell_type": "code",
   "execution_count": 92,
   "id": "81806545",
   "metadata": {},
   "outputs": [],
   "source": [
    "words = [\"apple\", \"banana\", \"apple\", \"orange\", \"banana\", \"grape\", \"apple\"]\n",
    "l = {word:words.count(word) for word in words}"
   ]
  },
  {
   "cell_type": "code",
   "execution_count": 93,
   "id": "00d69d17",
   "metadata": {},
   "outputs": [
    {
     "data": {
      "text/plain": [
       "{'apple': 3, 'banana': 2, 'orange': 1, 'grape': 1}"
      ]
     },
     "execution_count": 93,
     "metadata": {},
     "output_type": "execute_result"
    }
   ],
   "source": [
    "l"
   ]
  },
  {
   "cell_type": "code",
   "execution_count": 95,
   "id": "0d296716",
   "metadata": {},
   "outputs": [
    {
     "data": {
      "text/plain": [
       "16"
      ]
     },
     "execution_count": 95,
     "metadata": {},
     "output_type": "execute_result"
    }
   ],
   "source": [
    "def a(n):\n",
    "    n = n*n\n",
    "    return n\n",
    "a(4)"
   ]
  },
  {
   "cell_type": "code",
   "execution_count": 97,
   "id": "561ac04f",
   "metadata": {},
   "outputs": [
    {
     "name": "stdout",
     "output_type": "stream",
     "text": [
      "List befroe [11, 22, 33, 44, 55]\n",
      "After  [11, 22, 33, 44, 55, 43]\n"
     ]
    }
   ],
   "source": [
    "list1 = [11,22,33,44,55]\n",
    "def a(list1):\n",
    "    list1.append(43)\n",
    "print(\"List befroe\", list1)\n",
    "a(list1)\n",
    "print(\"After \", list1)"
   ]
  },
  {
   "cell_type": "code",
   "execution_count": 102,
   "id": "57805eba",
   "metadata": {},
   "outputs": [
    {
     "data": {
      "text/plain": [
       "24"
      ]
     },
     "execution_count": 102,
     "metadata": {},
     "output_type": "execute_result"
    }
   ],
   "source": [
    "def factorialss(n):\n",
    "    if n<=1:\n",
    "        return 1\n",
    "    else:\n",
    "        return n*factorialss(n-1)\n",
    "factorialss(4)"
   ]
  },
  {
   "cell_type": "code",
   "execution_count": 103,
   "id": "6b2a2833",
   "metadata": {},
   "outputs": [
    {
     "data": {
      "text/plain": [
       "[0, 1, 1, 2, 3, 5, 8, 13, 21, 34]"
      ]
     },
     "execution_count": 103,
     "metadata": {},
     "output_type": "execute_result"
    }
   ],
   "source": [
    "def fib(n):\n",
    "    if n<=1:\n",
    "        return n\n",
    "    else:\n",
    "        return fib(n-1)+fib(n-2)\n",
    "n=10\n",
    "f1 = [fib(i) for i in range(n)]\n",
    "f1"
   ]
  },
  {
   "cell_type": "code",
   "execution_count": 104,
   "id": "aa7d93cf",
   "metadata": {},
   "outputs": [
    {
     "name": "stdout",
     "output_type": "stream",
     "text": [
      "6\n"
     ]
    }
   ],
   "source": [
    "def ad(*args):\n",
    "    return sum(args)\n",
    "print(ad(1,2,3))"
   ]
  },
  {
   "cell_type": "code",
   "execution_count": 107,
   "id": "3a122cad",
   "metadata": {},
   "outputs": [
    {
     "data": {
      "text/plain": [
       "8"
      ]
     },
     "execution_count": 107,
     "metadata": {},
     "output_type": "execute_result"
    }
   ],
   "source": [
    "l1 = [3,4,5,6,7]\n",
    "ad(1,3,4)"
   ]
  },
  {
   "cell_type": "code",
   "execution_count": 111,
   "id": "42e42d71",
   "metadata": {},
   "outputs": [
    {
     "name": "stdout",
     "output_type": "stream",
     "text": [
      "Name : Asif\n",
      "ID : 7412\n",
      "Pincode : 41102\n",
      "Age : 33\n",
      "Country : Indi\n"
     ]
    }
   ],
   "source": [
    "def UserDetails(**kwargs):\n",
    "    for key,value in kwargs.items():\n",
    "        print('{} : {}'.format(key,value))\n",
    "\n",
    "\n",
    "UserDetails(Name='Asif' , ID=7412 , Pincode=41102 , Age= 33 ,Country= 'Indi')"
   ]
  },
  {
   "cell_type": "code",
   "execution_count": 112,
   "id": "14c752fa",
   "metadata": {},
   "outputs": [
    {
     "name": "stdout",
     "output_type": "stream",
     "text": [
      "Name : Asif\n",
      "ID : 7412\n",
      "Pincode : 41102\n",
      "Age : 33\n"
     ]
    }
   ],
   "source": [
    "mydict = {'Name': 'Asif', 'ID': 7412, 'Pincode': 41102, 'Age': 33}\n",
    "UserDetails(**mydict)"
   ]
  },
  {
   "cell_type": "code",
   "execution_count": 114,
   "id": "0a466825",
   "metadata": {},
   "outputs": [
    {
     "name": "stdout",
     "output_type": "stream",
     "text": [
      "10\n"
     ]
    }
   ],
   "source": [
    "res = lambda *args:sum(args)\n",
    "print(res(1,2,3,4))"
   ]
  },
  {
   "cell_type": "code",
   "execution_count": 115,
   "id": "d8f24e36",
   "metadata": {},
   "outputs": [],
   "source": [
    "list1 = [1,2,3,4,5,6,7,8,9]\n",
    "f = list(filter(lambda i:i%2==1,list1))"
   ]
  },
  {
   "cell_type": "code",
   "execution_count": 116,
   "id": "8580bd87",
   "metadata": {},
   "outputs": [
    {
     "data": {
      "text/plain": [
       "[1, 3, 5, 7, 9]"
      ]
     },
     "execution_count": 116,
     "metadata": {},
     "output_type": "execute_result"
    }
   ],
   "source": [
    "f"
   ]
  },
  {
   "cell_type": "code",
   "execution_count": 117,
   "id": "d6208e82",
   "metadata": {},
   "outputs": [],
   "source": [
    "list1 = [1,2,3,4,5,6,7,8,9]\n",
    "d = list(map(lambda i:i*2,list1))"
   ]
  },
  {
   "cell_type": "code",
   "execution_count": 118,
   "id": "50c4ce30",
   "metadata": {},
   "outputs": [
    {
     "data": {
      "text/plain": [
       "[2, 4, 6, 8, 10, 12, 14, 16, 18]"
      ]
     },
     "execution_count": 118,
     "metadata": {},
     "output_type": "execute_result"
    }
   ],
   "source": [
    "d"
   ]
  },
  {
   "cell_type": "code",
   "execution_count": 120,
   "id": "15c9a263",
   "metadata": {},
   "outputs": [],
   "source": [
    "from functools import reduce\n",
    "d = reduce(lambda a,b:a+b,list1)"
   ]
  },
  {
   "cell_type": "code",
   "execution_count": 121,
   "id": "13e35e0e",
   "metadata": {},
   "outputs": [
    {
     "data": {
      "text/plain": [
       "45"
      ]
     },
     "execution_count": 121,
     "metadata": {},
     "output_type": "execute_result"
    }
   ],
   "source": [
    "d"
   ]
  },
  {
   "cell_type": "code",
   "execution_count": 125,
   "id": "2c1d880e",
   "metadata": {},
   "outputs": [
    {
     "name": "stdout",
     "output_type": "stream",
     "text": [
      "thankyou for joining Ajay\n"
     ]
    }
   ],
   "source": [
    "class Emp:\n",
    "    def __init__(self,name,idd):\n",
    "        self.name = name\n",
    "        self.idd = idd\n",
    "        \n",
    "    def greet(self):\n",
    "        print(\"thankyou for joining {}\".format(self.name))\n",
    "obj = Emp('Ajay',1)\n",
    "obj.greet()"
   ]
  },
  {
   "cell_type": "code",
   "execution_count": null,
   "id": "aa5de1ac",
   "metadata": {},
   "outputs": [],
   "source": []
  }
 ],
 "metadata": {
  "kernelspec": {
   "display_name": "Python 3 (ipykernel)",
   "language": "python",
   "name": "python3"
  },
  "language_info": {
   "codemirror_mode": {
    "name": "ipython",
    "version": 3
   },
   "file_extension": ".py",
   "mimetype": "text/x-python",
   "name": "python",
   "nbconvert_exporter": "python",
   "pygments_lexer": "ipython3",
   "version": "3.8.10"
  }
 },
 "nbformat": 4,
 "nbformat_minor": 5
}
